{
 "cells": [
  {
   "cell_type": "code",
   "execution_count": 1,
   "metadata": {
    "collapsed": false
   },
   "outputs": [
    {
     "name": "stdout",
     "output_type": "stream",
     "text": [
      "3\n"
     ]
    }
   ],
   "source": [
    "print(len([1,2,3]))"
   ]
  },
  {
   "cell_type": "code",
   "execution_count": 2,
   "metadata": {
    "collapsed": false,
    "scrolled": true
   },
   "outputs": [
    {
     "ename": "SyntaxError",
     "evalue": "invalid syntax (<ipython-input-2-45f3bab8f63f>, line 6)",
     "output_type": "error",
     "traceback": [
      "\u001b[1;36m  File \u001b[1;32m\"<ipython-input-2-45f3bab8f63f>\"\u001b[1;36m, line \u001b[1;32m6\u001b[0m\n\u001b[1;33m    else num==100\u001b[0m\n\u001b[1;37m           ^\u001b[0m\n\u001b[1;31mSyntaxError\u001b[0m\u001b[1;31m:\u001b[0m invalid syntax\n"
     ]
    }
   ],
   "source": [
    "num=37\n",
    "if num>100:\n",
    "    print('greater than')\n",
    "elif num<100:\n",
    "    print('less than')\n",
    "else num==100\n",
    "    print('done')\n"
   ]
  },
  {
   "cell_type": "code",
   "execution_count": 5,
   "metadata": {
    "collapsed": false
   },
   "outputs": [
    {
     "name": "stdout",
     "output_type": "stream",
     "text": [
      "less than\n"
     ]
    }
   ],
   "source": [
    "num=37\n",
    "if num>100:\n",
    "    print('greater than')\n",
    "elif num<100:\n",
    "    print('less than')\n",
    "elif num==100:\n",
    "    print('done')"
   ]
  },
  {
   "cell_type": "code",
   "execution_count": 4,
   "metadata": {
    "collapsed": false
   },
   "outputs": [
    {
     "ename": "SyntaxError",
     "evalue": "invalid syntax (<ipython-input-4-c4188183f7c4>, line 6)",
     "output_type": "error",
     "traceback": [
      "\u001b[1;36m  File \u001b[1;32m\"<ipython-input-4-c4188183f7c4>\"\u001b[1;36m, line \u001b[1;32m6\u001b[0m\n\u001b[1;33m    elif num==100\u001b[0m\n\u001b[1;37m                 ^\u001b[0m\n\u001b[1;31mSyntaxError\u001b[0m\u001b[1;31m:\u001b[0m invalid syntax\n"
     ]
    }
   ],
   "source": [
    "num=37\n",
    "if num>100:\n",
    "    print('greater than')\n",
    "elif num<100:\n",
    "    print('less than')\n",
    "elif num==100\n",
    "    print('done')"
   ]
  },
  {
   "cell_type": "code",
   "execution_count": 8,
   "metadata": {
    "collapsed": false
   },
   "outputs": [
    {
     "ename": "SyntaxError",
     "evalue": "invalid syntax (<ipython-input-8-98e5b7b9332f>, line 6)",
     "output_type": "error",
     "traceback": [
      "\u001b[1;36m  File \u001b[1;32m\"<ipython-input-8-98e5b7b9332f>\"\u001b[1;36m, line \u001b[1;32m6\u001b[0m\n\u001b[1;33m    else num==100:\u001b[0m\n\u001b[1;37m           ^\u001b[0m\n\u001b[1;31mSyntaxError\u001b[0m\u001b[1;31m:\u001b[0m invalid syntax\n"
     ]
    }
   ],
   "source": [
    "num=200\n",
    "if (num>100) and (num<300):\n",
    "    print('greater than')\n",
    "elif num<100:\n",
    "    print('less than')\n",
    "else num==100:\n",
    "    print('is 100')"
   ]
  },
  {
   "cell_type": "code",
   "execution_count": 9,
   "metadata": {
    "collapsed": false
   },
   "outputs": [
    {
     "ename": "SyntaxError",
     "evalue": "invalid syntax (<ipython-input-9-98e5b7b9332f>, line 6)",
     "output_type": "error",
     "traceback": [
      "\u001b[1;36m  File \u001b[1;32m\"<ipython-input-9-98e5b7b9332f>\"\u001b[1;36m, line \u001b[1;32m6\u001b[0m\n\u001b[1;33m    else num==100:\u001b[0m\n\u001b[1;37m           ^\u001b[0m\n\u001b[1;31mSyntaxError\u001b[0m\u001b[1;31m:\u001b[0m invalid syntax\n"
     ]
    }
   ],
   "source": [
    "num=200\n",
    "if (num>100) and (num<300):\n",
    "    print('greater than')\n",
    "elif num<100:\n",
    "    print('less than')\n",
    "else num==100:\n",
    "    print('is 100')"
   ]
  },
  {
   "cell_type": "code",
   "execution_count": 7,
   "metadata": {
    "collapsed": false
   },
   "outputs": [
    {
     "name": "stdout",
     "output_type": "stream",
     "text": [
      "bt\n"
     ]
    }
   ],
   "source": [
    "if (1>0) and (-1<0):\n",
    "    print('bt')\n",
    "else:\n",
    "    print('b')\n"
   ]
  },
  {
   "cell_type": "code",
   "execution_count": null,
   "metadata": {
    "collapsed": true
   },
   "outputs": [],
   "source": []
  },
  {
   "cell_type": "code",
   "execution_count": 6,
   "metadata": {
    "collapsed": false
   },
   "outputs": [
    {
     "name": "stdout",
     "output_type": "stream",
     "text": [
      "t\n"
     ]
    }
   ],
   "source": [
    "if (1>0) and (-1<0):\n",
    "    print('t')\n"
   ]
  },
  {
   "cell_type": "code",
   "execution_count": 10,
   "metadata": {
    "collapsed": false
   },
   "outputs": [
    {
     "name": "stdout",
     "output_type": "stream",
     "text": [
      "true\n"
     ]
    }
   ],
   "source": [
    "x='apple'\n",
    "if x is 'apple':\n",
    "    print('true')\n",
    "else:\n",
    "    print('fale')\n",
    "    \n",
    "    \n"
   ]
  },
  {
   "cell_type": "code",
   "execution_count": 11,
   "metadata": {
    "collapsed": false
   },
   "outputs": [
    {
     "name": "stdout",
     "output_type": "stream",
     "text": [
      "fale\n"
     ]
    }
   ],
   "source": [
    "x='orange'\n",
    "if x is 'apple':\n",
    "    print('true')\n",
    "else:\n",
    "    print('fale')"
   ]
  },
  {
   "cell_type": "code",
   "execution_count": 14,
   "metadata": {
    "collapsed": false
   },
   "outputs": [
    {
     "name": "stdout",
     "output_type": "stream",
     "text": [
      "fale\n"
     ]
    }
   ],
   "source": [
    "x='orange'\n",
    "y='blue'\n",
    "if x==y:\n",
    "    print('true')\n",
    "else:\n",
    "    print('fale')"
   ]
  },
  {
   "cell_type": "code",
   "execution_count": 16,
   "metadata": {
    "collapsed": false
   },
   "outputs": [
    {
     "name": "stdout",
     "output_type": "stream",
     "text": [
      "ssdasd\n"
     ]
    }
   ],
   "source": [
    "x='orange'\n",
    "y='blue'\n",
    "if x is y:\n",
    "    print('true')\n",
    "else:\n",
    "    print('ssdasd')"
   ]
  },
  {
   "cell_type": "code",
   "execution_count": 20,
   "metadata": {
    "collapsed": false
   },
   "outputs": [
    {
     "name": "stdout",
     "output_type": "stream",
     "text": [
      "tadadr\n"
     ]
    }
   ],
   "source": [
    "if 2==2.000:\n",
    "    print('tadadr')\n",
    "else:\n",
    "    print('adada'"
   ]
  },
  {
   "cell_type": "code",
   "execution_count": 30,
   "metadata": {
    "collapsed": false
   },
   "outputs": [],
   "source": [
    "if bool(2>2):\n",
    "    print('true')"
   ]
  },
  {
   "cell_type": "code",
   "execution_count": 31,
   "metadata": {
    "collapsed": false
   },
   "outputs": [
    {
     "name": "stdout",
     "output_type": "stream",
     "text": [
      "tru\n"
     ]
    }
   ],
   "source": [
    "if True:\n",
    "    print('tru')\n",
    "if False:\n",
    "    print('fal')"
   ]
  },
  {
   "cell_type": "code",
   "execution_count": 32,
   "metadata": {
    "collapsed": false
   },
   "outputs": [
    {
     "name": "stdout",
     "output_type": "stream",
     "text": [
      "sfsfd\n"
     ]
    }
   ],
   "source": [
    "if 1:\n",
    "    print('sfsfd')"
   ]
  },
  {
   "cell_type": "code",
   "execution_count": 33,
   "metadata": {
    "collapsed": true
   },
   "outputs": [],
   "source": [
    "if {}:\n",
    "    print('afsfsdff')"
   ]
  },
  {
   "cell_type": "code",
   "execution_count": 34,
   "metadata": {
    "collapsed": false
   },
   "outputs": [
    {
     "name": "stdout",
     "output_type": "stream",
     "text": [
      "saqwdqwe\n"
     ]
    }
   ],
   "source": [
    "if 1:\n",
    "    print('saqwdqwe')"
   ]
  },
  {
   "cell_type": "code",
   "execution_count": 35,
   "metadata": {
    "collapsed": false
   },
   "outputs": [
    {
     "ename": "SyntaxError",
     "evalue": "invalid syntax (<ipython-input-35-b4eaba1f0c8a>, line 1)",
     "output_type": "error",
     "traceback": [
      "\u001b[1;36m  File \u001b[1;32m\"<ipython-input-35-b4eaba1f0c8a>\"\u001b[1;36m, line \u001b[1;32m1\u001b[0m\n\u001b[1;33m    def this\u001b[0m\n\u001b[1;37m             ^\u001b[0m\n\u001b[1;31mSyntaxError\u001b[0m\u001b[1;31m:\u001b[0m invalid syntax\n"
     ]
    }
   ],
   "source": [
    "def this "
   ]
  },
  {
   "cell_type": "code",
   "execution_count": 39,
   "metadata": {
    "collapsed": true
   },
   "outputs": [],
   "source": [
    "def this_function_deos_nothing():\n",
    "    '''\n",
    "    This function is useless\n",
    "    '''\n",
    "    pass"
   ]
  },
  {
   "cell_type": "code",
   "execution_count": 41,
   "metadata": {
    "collapsed": false
   },
   "outputs": [
    {
     "name": "stdout",
     "output_type": "stream",
     "text": [
      "Help on function this_function_deos_nothing in module __main__:\n",
      "\n",
      "this_function_deos_nothing()\n",
      "    This function is useless\n",
      "\n"
     ]
    }
   ],
   "source": [
    "help(this_function_deos_nothing)\n"
   ]
  },
  {
   "cell_type": "code",
   "execution_count": 42,
   "metadata": {
    "collapsed": false
   },
   "outputs": [
    {
     "name": "stdout",
     "output_type": "stream",
     "text": [
      "Help on function this_function_deos_nothing in module __main__:\n",
      "\n",
      "this_function_deos_nothing()\n",
      "    This function is useless\n",
      "\n"
     ]
    }
   ],
   "source": [
    "help(this_function_deos_nothing)\n",
    "#adad"
   ]
  },
  {
   "cell_type": "code",
   "execution_count": 43,
   "metadata": {
    "collapsed": false
   },
   "outputs": [
    {
     "data": {
      "text/plain": [
       "['desire', 'kipfler', 'red', 'petite', 'yellow', 'white']"
      ]
     },
     "execution_count": 43,
     "metadata": {},
     "output_type": "execute_result"
    }
   ],
   "source": [
    "potatoes=['desire','kipfler','red','petite','yellow','white']\n",
    "potatoes"
   ]
  },
  {
   "cell_type": "code",
   "execution_count": 44,
   "metadata": {
    "collapsed": true
   },
   "outputs": [],
   "source": [
    "def peel_lm(name_list):\n",
    "    '''\n",
    "    this function is doing something\n",
    "    '''\n",
    "    full_list=[]\n",
    "    \n",
    "    for potato in name_list:\n",
    "        answer=potato[1:-1]\n",
    "        full_list.append(answer)\n",
    "    \n",
    "    return full_list\n"
   ]
  },
  {
   "cell_type": "code",
   "execution_count": 45,
   "metadata": {
    "collapsed": false
   },
   "outputs": [
    {
     "data": {
      "text/plain": [
       "['esir', 'ipfle', 'e', 'etit', 'ello', 'hit']"
      ]
     },
     "execution_count": 45,
     "metadata": {},
     "output_type": "execute_result"
    }
   ],
   "source": [
    "peel_lm(potatoes)"
   ]
  }
 ],
 "metadata": {
  "kernelspec": {
   "display_name": "Python 3",
   "language": "python",
   "name": "python3"
  },
  "language_info": {
   "codemirror_mode": {
    "name": "ipython",
    "version": 3
   },
   "file_extension": ".py",
   "mimetype": "text/x-python",
   "name": "python",
   "nbconvert_exporter": "python",
   "pygments_lexer": "ipython3",
   "version": "3.4.3"
  }
 },
 "nbformat": 4,
 "nbformat_minor": 0
}
